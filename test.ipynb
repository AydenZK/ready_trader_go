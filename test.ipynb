{
 "cells": [
  {
   "cell_type": "code",
   "execution_count": 89,
   "metadata": {},
   "outputs": [],
   "source": [
    "from ast import Or\n",
    "import asyncio\n",
    "import itertools\n",
    "import numpy as np\n",
    "\n",
    "from typing import List\n",
    "\n",
    "from ready_trader_go import BaseAutoTrader, Instrument, Lifespan, MAXIMUM_ASK, MINIMUM_BID, Side\n",
    "\n",
    "\n",
    "LOT_SIZE = 10\n",
    "POSITION_LIMIT = 100\n",
    "TICK_SIZE_IN_CENTS = 100\n",
    "\n",
    "class Order:\n",
    "    def __init__(self, price, vol):\n",
    "        self.price = price\n",
    "        self.vol = vol\n",
    "\n",
    "class OrderBook:\n",
    "    def __init__(self, sequence_number: int, ask_prices: List[int], ask_volumes: List[int], bid_prices: List[int], bid_volumes: List[int]):\n",
    "        self.sequence_number = sequence_number\n",
    "        self.bids = [Order(bid_prices[i], bid_volumes[i]) for i in range(len(bid_prices))]\n",
    "        self.asks = [Order(ask_prices[i], ask_volumes[i]) for i in range(len(ask_prices))]\n",
    "        self.best_bid = self.bids[0]\n",
    "        self.best_ask = self.asks[0]\n",
    "\n",
    "class Historical:\n",
    "    def __init__(self):\n",
    "        self.historical_prices = {\n",
    "            Instrument.FUTURE: [], # Future\n",
    "            Instrument.ETF: []  # ETF\n",
    "        }\n",
    "\n",
    "    def update(self, instrument, price):\n",
    "        self.historical_prices[instrument].append(price)\n",
    "\n",
    "    @property\n",
    "    def min_time(self):\n",
    "        return min(\n",
    "            len(self.historical_prices[Instrument.FUTURE]), \n",
    "            len(self.historical_prices[Instrument.ETF]))\n",
    "\n",
    "    def min_len_to_execute(self, result, length=10, safe_result=0):\n",
    "        if self.min_time >= length:\n",
    "            return result\n",
    "        return safe_result\n",
    "\n",
    "    @property\n",
    "    def history_future(self):\n",
    "        return self.historical_prices[Instrument.FUTURE][:self.min_time]\n",
    "\n",
    "    @property\n",
    "    def history_etf(self):\n",
    "        return self.historical_prices[Instrument.ETF][:self.min_time]\n",
    "\n",
    "    @property\n",
    "    def std_etf(self):\n",
    "        return self.min_len_to_execute(np.std(self.history_etf), safe_result=1)\n",
    "\n",
    "    @property\n",
    "    def std_future(self):\n",
    "        return self.min_len_to_execute(np.std(self.history_future), safe_result=1)\n",
    "\n",
    "    @property\n",
    "    def corr(self):\n",
    "        return self.min_len_to_execute(np.corrcoef(self.history_etf, self.history_future)[0][1])\n",
    "    \n",
    "    @property\n",
    "    def cov(self):\n",
    "        return self.min_len_to_execute(self.corr * self.std_etf * self.std_future)\n",
    "\n",
    "    @property\n",
    "    def beta(self):\n",
    "        \"\"\"beta of stock against future\"\"\"\n",
    "        return self.min_len_to_execute(self.cov / (self.std_future**2))\n",
    "    \n",
    "\n",
    "class AutoTrader(BaseAutoTrader):\n",
    "    \"\"\"Example Auto-trader.\n",
    "\n",
    "    When it starts this auto-trader places ten-lot bid and ask orders at the\n",
    "    current best-bid and best-ask prices respectively. Thereafter, if it has\n",
    "    a long position (it has bought more lots than it has sold) it reduces its\n",
    "    bid and ask prices. Conversely, if it has a short position (it has sold\n",
    "    more lots than it has bought) then it increases its bid and ask prices.\n",
    "    \"\"\"\n",
    "\n",
    "    def __init__(self, loop: asyncio.AbstractEventLoop, team_name: str, secret: str):\n",
    "        \"\"\"Initialise a new instance of the AutoTrader class.\"\"\"\n",
    "        super().__init__(loop, team_name, secret)\n",
    "        self.order_ids = itertools.count(1)\n",
    "        self.bids = {}\n",
    "        self.future_bids = set()\n",
    "        self.asks = {}\n",
    "        self.arbitrage_hedges = {}\n",
    "        self.future_asks = set()\n",
    "        self.ask_id = self.ask_price = self.bid_id = self.bid_price = self.position = self.futures_position = 0\n",
    "        self.historical = Historical()\n",
    "\n",
    "    def get_total_position(self):\n",
    "        return self.position + self.futures_position\n",
    "\n",
    "    def send_insert_order_(self, **kwargs):\n",
    "        print(kwargs)\n",
    "\n",
    "    def send_hedge_order_(self, **kwargs):\n",
    "        print(kwargs)\n",
    "        \n",
    "    def on_error_message(self, client_order_id: int, error_message: bytes) -> None:\n",
    "        \"\"\"Called when the exchange detects an error.\n",
    "\n",
    "        If the error pertains to a particular order, then the client_order_id\n",
    "        will identify that order, otherwise the client_order_id will be zero.\n",
    "        \"\"\"\n",
    "        self.logger.warning(\"error with order %d: %s\", client_order_id, error_message.decode())\n",
    "        if client_order_id != 0:\n",
    "            self.on_order_status_message(client_order_id, 0, 0, 0)\n",
    "\n",
    "    def on_hedge_filled_message(self, client_order_id: int, price: int, volume: int) -> None:\n",
    "        \"\"\"Called when one of your hedge orders is filled, partially or fully.\n",
    "\n",
    "        The price is the average price at which the order was (partially) filled,\n",
    "        which may be better than the order's limit price. The volume is\n",
    "        the number of lots filled at that price.\n",
    "\n",
    "        If the order was unsuccessful, both the price and volume will be zero.\n",
    "        \"\"\"\n",
    "        self.logger.info(\"received hedge filled for order %d with average price %d and volume %d\", client_order_id,\n",
    "                         price, volume)\n",
    "        if client_order_id in self.future_asks:\n",
    "            self.futures_position -= volume\n",
    "            self.future_asks.discard(client_order_id)\n",
    "        if client_order_id in self.future_bids:\n",
    "            self.futures_position += volume\n",
    "            self.future_bids.discard(client_order_id)\n",
    "\n",
    "    def on_order_book_update_message(self, instrument: int, sequence_number: int, ask_prices: List[int],\n",
    "                                     ask_volumes: List[int], bid_prices: List[int], bid_volumes: List[int]) -> None:\n",
    "        \"\"\"Called periodically to report the status of an order book.\n",
    "\n",
    "        The sequence number can be used to detect missed or out-of-order\n",
    "        messages. The five best available ask (i.e. sell) and bid (i.e. buy)\n",
    "        prices are reported along with the volume available at each of those\n",
    "        price levels.\n",
    "        \"\"\"\n",
    "        self.logger.info(\"received order book for instrument %d with sequence number %d\", instrument,\n",
    "                         sequence_number)\n",
    "        self.logger.info({\"instrument\": instrument, \"sequence_number\": sequence_number, \"ask_prices\": ask_prices, \"ask_volumes\": ask_volumes, \"bid_prices\": bid_prices, \"bid_volumes\": bid_volumes})\n",
    "        # self.logger.info(f\"TIME: {self.event_loop.time()}\")\n",
    "        # adds to historical prices (mid price)\n",
    "        self.historical.update(instrument, np.mean([bid_prices[0], ask_prices[0]]))\n",
    "        if instrument == Instrument.FUTURE:\n",
    "            # Load Order book into memory\n",
    "            self.futures = OrderBook(sequence_number, ask_prices,ask_volumes, bid_prices, bid_volumes)   \n",
    "        elif instrument == Instrument.ETF:\n",
    "            # Load Order book into memory\n",
    "            self.etfs = OrderBook(sequence_number, ask_prices, ask_volumes, bid_prices, bid_volumes)\n",
    "            if self.etfs.best_ask.price < self.futures.best_bid.price: # etf buy, future sell opp.\n",
    "                # All favourable etf ask prices to trade with\n",
    "                arb_asks = [ask for ask in self.etfs.asks if ask.price < self.futures.best_bid.price]\n",
    "                # Keeping potential counts so that we can track our position before official fills\n",
    "                potential_pos = self.position\n",
    "                potential_fut_vol = self.futures.best_bid.vol\n",
    "                for etf_ask in arb_asks:\n",
    "                    trade_vol = min(POSITION_LIMIT-potential_pos, etf_ask.vol, potential_fut_vol)\n",
    "                    if trade_vol > 0:\n",
    "                        potential_pos += trade_vol\n",
    "                        potential_fut_vol -= trade_vol\n",
    "                        next_id = next(self.order_ids)\n",
    "                        log = {\n",
    "                            \"POSITION\": self.position,\n",
    "                            \"POTENTIAL_POSITION\": potential_pos,\n",
    "                            \"FUTURES_POSITION\": self.futures_position,\n",
    "                            \"BIDS/ASKS\": (self.bids, self.asks),\n",
    "                            \"MAX_VOLUME\":  etf_ask.vol,\n",
    "                            \"ACTION\": f\"BUY {trade_vol} ETF @{etf_ask.price}, ID: {next_id}\"\n",
    "                        }\n",
    "                        self.logger.info(f\"CUSTOM LOG: {log}\")\n",
    "                        self.send_insert_order_(client_order_id=next_id, side=Side.BUY, price=etf_ask.price, volume=trade_vol, lifespan=Lifespan.FAK) # buy etf\n",
    "                        self.bids.add(next_id)\n",
    "\n",
    "            if self.futures.best_ask.price < self.etfs.best_bid.price: # future buy, etf sell opp.\n",
    "                arb_bids = [bid for bid in self.etfs.bids if bid.price > self.futures.best_ask.price]\n",
    "                potential_pos = self.position\n",
    "                potential_fut_vol = self.futures.best_bid.vol\n",
    "                for etf_bid in arb_bids:\n",
    "                    trade_vol = min(POSITION_LIMIT+potential_pos, etf_bid.vol, potential_fut_vol)\n",
    "                    if trade_vol > 0:\n",
    "                        potential_pos -= trade_vol\n",
    "                        potential_fut_vol -= trade_vol\n",
    "                        next_id = next(self.order_ids)\n",
    "                        log = {\n",
    "                            \"POSITION\": self.position,\n",
    "                            \"POTENTIAL_POSITION\": potential_pos,\n",
    "                            \"FUTURES_POSITION\": self.futures_position,\n",
    "                            \"BIDS/ASKS\": (self.bids, self.asks),\n",
    "                            \"MAX_VOLUME\": etf_bid.vol,\n",
    "                            \"ACTION\": f\"SELL {trade_vol} ETF @{etf_bid.price}, ID: {next_id}\"\n",
    "                        }\n",
    "                        self.logger.info(f\"CUSTOM LOG: {log}\")\n",
    "                        self.send_insert_order_(client_order_id=next_id, side=Side.SELL, price=etf_bid.price, volume=trade_vol, lifespan=Lifespan.FAK) # sell etf\n",
    "                        self.asks.add(next_id)\n",
    "                        \n",
    "    def on_order_filled_message(self, client_order_id: int, price: int, volume: int) -> None:\n",
    "        \"\"\"Called when when of your orders is filled, partially or fully.\n",
    "\n",
    "        The price is the price at which the order was (partially) filled,\n",
    "        which may be better than the order's limit price. The volume is\n",
    "        the number of lots filled at that price.\n",
    "        \"\"\"\n",
    "        self.logger.info(\"received order filled for order %d with price %d and volume %d\", client_order_id,\n",
    "                         price, volume)\n",
    "        if client_order_id in self.bids:\n",
    "            self.position += volume\n",
    "            next_id = next(self.order_ids)\n",
    "            log = {\n",
    "                \"POSITION\": self.position,\n",
    "                \"FUTURES_POSITION\": self.futures_position,\n",
    "                \"BIDS/ASKS\": (self.bids, self.asks),\n",
    "                \"ACTION\": f\"SELL {volume}x FUTURE @{MINIMUM_BID}, ID: {next_id}\"\n",
    "            }\n",
    "            self.logger.info(f\"CUSTOM LOG: {log}\")\n",
    "            self.send_hedge_order_(client_order_id=next_id, side=Side.SELL, price=MINIMUM_BID, volume=volume) # selling futures\n",
    "            self.arbitrage_hedges.add(next_id)\n",
    "            self.future_asks.add(next_id)\n",
    "        elif client_order_id in self.asks:\n",
    "            self.position -= volume\n",
    "            next_id = next(self.order_ids)\n",
    "            log = {\n",
    "                \"POSITION\": self.position,\n",
    "                \"FUTURES_POSITION\": self.futures_position,\n",
    "                \"BIDS/ASKS\": (self.bids, self.asks),\n",
    "                \"ACTION\": f\"BUY {volume}x FUTURE @{MAXIMUM_ASK//TICK_SIZE_IN_CENTS*TICK_SIZE_IN_CENTS}, ID: {next_id}\"\n",
    "            }\n",
    "            self.logger.info(f\"CUSTOM LOG: {log}\")\n",
    "            self.send_hedge_order_(client_order_id=next_id, side=Side.BUY, price=MAXIMUM_ASK//TICK_SIZE_IN_CENTS*TICK_SIZE_IN_CENTS, volume=volume) # selling futures\n",
    "            self.future_bids.add(next_id)\n",
    "            self.arbitrage_hedges.add(next_id)\n",
    "\n",
    "    def on_order_status_message(self, client_order_id: int, fill_volume: int, remaining_volume: int,\n",
    "                                fees: int) -> None:\n",
    "        \"\"\"Called when the status of one of your orders changes.\n",
    "\n",
    "        The fill_volume is the number of lots already traded, remaining_volume\n",
    "        is the number of lots yet to be traded and fees is the total fees for\n",
    "        this order. Remember that you pay fees for being a market taker, but\n",
    "        you receive fees for being a market maker, so fees can be negative.\n",
    "\n",
    "        If an order is cancelled its remaining volume will be zero.\n",
    "        \"\"\"\n",
    "        self.logger.info(\"received order status for order %d with fill volume %d remaining %d and fees %d\",\n",
    "                         client_order_id, fill_volume, remaining_volume, fees)\n",
    "        if remaining_volume == 0:\n",
    "            if client_order_id == self.bid_id:\n",
    "                self.bid_id = 0\n",
    "            elif client_order_id == self.ask_id:\n",
    "                self.ask_id = 0\n",
    "\n",
    "            # It could be either a bid or an ask\n",
    "            self.bids.discard(client_order_id)\n",
    "            self.asks.discard(client_order_id)\n",
    "\n",
    "    def on_trade_ticks_message(self, instrument: int, sequence_number: int, ask_prices: List[int],\n",
    "                               ask_volumes: List[int], bid_prices: List[int], bid_volumes: List[int]) -> None:\n",
    "        \"\"\"Called periodically when there is trading activity on the market.\n",
    "\n",
    "        The five best ask (i.e. sell) and bid (i.e. buy) prices at which there\n",
    "        has been trading activity are reported along with the aggregated volume\n",
    "        traded at each of those price levels.\n",
    "\n",
    "        If there are less than five prices on a side, then zeros will appear at\n",
    "        the end of both the prices and volumes arrays.\n",
    "        \"\"\"\n",
    "        self.logger.info(\"received trade ticks for instrument %d with sequence number %d\", instrument,\n",
    "                         sequence_number)\n"
   ]
  },
  {
   "cell_type": "code",
   "execution_count": 90,
   "metadata": {},
   "outputs": [],
   "source": [
    "at = AutoTrader(\"\",'ArbTrader', 'secret')"
   ]
  },
  {
   "cell_type": "code",
   "execution_count": 91,
   "metadata": {},
   "outputs": [],
   "source": [
    "at.position = 51"
   ]
  },
  {
   "cell_type": "code",
   "execution_count": 92,
   "metadata": {},
   "outputs": [
    {
     "name": "stdout",
     "output_type": "stream",
     "text": [
      "{'client_order_id': 1, 'side': <Side.BUY: 1>, 'price': 80000, 'volume': 49, 'lifespan': <Lifespan.FILL_AND_KILL: 0>}\n"
     ]
    }
   ],
   "source": [
    "at.on_order_book_update_message(Instrument.FUTURE, 0, ask_prices=[82500], ask_volumes=[100], bid_prices=[81000], bid_volumes=[50])\n",
    "at.on_order_book_update_message(Instrument.ETF, 0, ask_prices=[80000], ask_volumes=[100], bid_prices=[79000], bid_volumes=[50])\n"
   ]
  },
  {
   "cell_type": "code",
   "execution_count": null,
   "metadata": {},
   "outputs": [
    {
     "data": {
      "text/plain": [
       "81000"
      ]
     },
     "execution_count": 58,
     "metadata": {},
     "output_type": "execute_result"
    }
   ],
   "source": [
    "at.futures.best_bid"
   ]
  },
  {
   "cell_type": "code",
   "execution_count": 59,
   "metadata": {},
   "outputs": [
    {
     "data": {
      "text/plain": [
       "80000"
      ]
     },
     "execution_count": 59,
     "metadata": {},
     "output_type": "execute_result"
    }
   ],
   "source": [
    "at.etfs.best_ask"
   ]
  },
  {
   "cell_type": "code",
   "execution_count": 61,
   "metadata": {},
   "outputs": [
    {
     "data": {
      "text/plain": [
       "100"
      ]
     },
     "execution_count": 61,
     "metadata": {},
     "output_type": "execute_result"
    }
   ],
   "source": [
    "at.etfs.best_ask_vol# <= at.futures.best_bid_vol"
   ]
  },
  {
   "cell_type": "code",
   "execution_count": 62,
   "metadata": {},
   "outputs": [
    {
     "data": {
      "text/plain": [
       "50"
      ]
     },
     "execution_count": 62,
     "metadata": {},
     "output_type": "execute_result"
    }
   ],
   "source": [
    "at.futures.best_bid_vol"
   ]
  },
  {
   "cell_type": "code",
   "execution_count": 44,
   "metadata": {},
   "outputs": [
    {
     "data": {
      "text/plain": [
       "<__main__.OrderBook at 0x1bc3044bee0>"
      ]
     },
     "execution_count": 44,
     "metadata": {},
     "output_type": "execute_result"
    }
   ],
   "source": [
    "at.futures"
   ]
  },
  {
   "cell_type": "code",
   "execution_count": 71,
   "metadata": {},
   "outputs": [],
   "source": [
    "def send_insert_order(**kwargs):\n",
    "    print(kwargs)"
   ]
  },
  {
   "cell_type": "code",
   "execution_count": 75,
   "metadata": {},
   "outputs": [
    {
     "name": "stdout",
     "output_type": "stream",
     "text": [
      "{'client_order_id': 0, 'side': <Side.BUY: 1>, 'price': 80000, 'volume': 50, 'lifespan': <Lifespan.FILL_AND_KILL: 0>}\n"
     ]
    }
   ],
   "source": [
    "send_insert_order(client_order_id=0, side=Side.BUY, price=at.etfs.best_ask, volume=50, lifespan=Lifespan.FAK)"
   ]
  },
  {
   "cell_type": "code",
   "execution_count": null,
   "metadata": {},
   "outputs": [],
   "source": []
  }
 ],
 "metadata": {
  "interpreter": {
   "hash": "11985149111458dfeecbde132917ce1777c8ec46976e6c8b18a85387df8e52b7"
  },
  "kernelspec": {
   "display_name": "Python 3.8.5 64-bit",
   "language": "python",
   "name": "python3"
  },
  "language_info": {
   "codemirror_mode": {
    "name": "ipython",
    "version": 3
   },
   "file_extension": ".py",
   "mimetype": "text/x-python",
   "name": "python",
   "nbconvert_exporter": "python",
   "pygments_lexer": "ipython3",
   "version": "3.8.5"
  },
  "orig_nbformat": 4
 },
 "nbformat": 4,
 "nbformat_minor": 2
}
