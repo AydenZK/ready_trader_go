{
 "cells": [
  {
   "cell_type": "code",
   "execution_count": 5,
   "metadata": {},
   "outputs": [],
   "source": [
    "import pandas as pd"
   ]
  },
  {
   "cell_type": "code",
   "execution_count": 57,
   "metadata": {},
   "outputs": [],
   "source": [
    "trader_log = 'bidask-v1.log' # log\n",
    "score_board = 'score_board.csv' # log\n",
    "\n",
    "def evaluate_theo(trader_log, score_board, trader, details=''):\n",
    "    with open(trader_log, 'r') as f:\n",
    "        total_edge = 0\n",
    "        for line in f.readlines():\n",
    "            if 'TOTAL_EDGE' in line:\n",
    "                total_edge = float(line.split('TOTAL_EDGE: ')[-1])\n",
    "\n",
    "        df = pd.read_csv(score_board)\n",
    "        res = df[df['Team']==trader].tail(1)\n",
    "        trade_profit = res['ProfitOrLoss'] - (res['EtfPosition'] * res['EtfPrice'] + res['FuturePosition'] * res['FuturePrice']) + df.iloc[41504]['TotalFees']\n",
    "        true_edge = trade_profit.values[0]\n",
    "\n",
    "        pct_error = f\"{round((-true_edge + total_edge) / true_edge * 10000) / 100} %\"\n",
    "        abs_error = abs(true_edge - total_edge)\n",
    "        details += \" vs \" + \"|\".join(df['Team'].unique())\n",
    "\n",
    "        with open('data/theo_eval.csv', 'a') as res:\n",
    "            res.write(f'\\n{trader},{details},{pct_error},{abs_error}')\n"
   ]
  },
  {
   "cell_type": "code",
   "execution_count": 58,
   "metadata": {},
   "outputs": [],
   "source": [
    "evaluate_theo(trader_log=trader_log, score_board=score_board, trader=\"BidAsk-v1\", details='md3_x10')"
   ]
  },
  {
   "cell_type": "code",
   "execution_count": 59,
   "metadata": {},
   "outputs": [
    {
     "data": {
      "text/html": [
       "<div>\n",
       "<style scoped>\n",
       "    .dataframe tbody tr th:only-of-type {\n",
       "        vertical-align: middle;\n",
       "    }\n",
       "\n",
       "    .dataframe tbody tr th {\n",
       "        vertical-align: top;\n",
       "    }\n",
       "\n",
       "    .dataframe thead th {\n",
       "        text-align: right;\n",
       "    }\n",
       "</style>\n",
       "<table border=\"1\" class=\"dataframe\">\n",
       "  <thead>\n",
       "    <tr style=\"text-align: right;\">\n",
       "      <th></th>\n",
       "      <th>deatils</th>\n",
       "      <th>pct_error</th>\n",
       "      <th>abs_error</th>\n",
       "    </tr>\n",
       "  </thead>\n",
       "  <tbody>\n",
       "    <tr>\n",
       "      <th>BidAsk-v1</th>\n",
       "      <td>md3_x10 vs Arb-v1|BidAsk-v1|Master-v1</td>\n",
       "      <td>444.79 %</td>\n",
       "      <td>862900.0</td>\n",
       "    </tr>\n",
       "  </tbody>\n",
       "</table>\n",
       "</div>"
      ],
      "text/plain": [
       "                                         deatils pct_error  abs_error\n",
       "BidAsk-v1  md3_x10 vs Arb-v1|BidAsk-v1|Master-v1  444.79 %   862900.0"
      ]
     },
     "execution_count": 59,
     "metadata": {},
     "output_type": "execute_result"
    }
   ],
   "source": [
    "pd.read_csv('data/theo_eval.csv')"
   ]
  }
 ],
 "metadata": {
  "interpreter": {
   "hash": "aee8b7b246df8f9039afb4144a1f6fd8d2ca17a180786b69acc140d282b71a49"
  },
  "kernelspec": {
   "display_name": "Python 3.9.2 64-bit",
   "language": "python",
   "name": "python3"
  },
  "language_info": {
   "codemirror_mode": {
    "name": "ipython",
    "version": 3
   },
   "file_extension": ".py",
   "mimetype": "text/x-python",
   "name": "python",
   "nbconvert_exporter": "python",
   "pygments_lexer": "ipython3",
   "version": "3.9.2"
  },
  "orig_nbformat": 4
 },
 "nbformat": 4,
 "nbformat_minor": 2
}
